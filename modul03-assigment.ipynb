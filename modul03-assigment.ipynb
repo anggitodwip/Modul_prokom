{
 "cells": [
  {
   "attachments": {},
   "cell_type": "markdown",
   "metadata": {},
   "source": [
    "# Modul 03: Assigment\n",
    "Penugasan pada variabel untuk menerima nilai tertentu\n",
    "\n",
    "Misal,\n",
    "* ```a = 5``` berarti a sama dengan 5\n",
    "* ```a = b + c``` berarti a sama dengan penjumlahan b dan c\n",
    "* ```a = 5 > 7``` berarti a sama dengan pernyataan 5 lebih besar daripada 7 (```False```)\n",
    "\n",
    "Secara umum, assignment dengan satu sama dengan (``` = ```) cukup sederhana. Pastikan untuk membedakannya dari operasi komparasi (``` == ```)"
   ]
  },
  {
   "attachments": {},
   "cell_type": "markdown",
   "metadata": {},
   "source": [
    "Assignment dapat digunakan untuk menyederhanakan operasi, seperti di bawah ini\n",
    "\n",
    "Catatan: agar notebook berjalan dengan baik, jangan lupa untuk run code URUT dari atas sampai bawah!\n"
   ]
  },
  {
   "cell_type": "code",
   "execution_count": 1,
   "metadata": {},
   "outputs": [
    {
     "name": "stdout",
     "output_type": "stream",
     "text": [
      "\n",
      "nilai a adalah 5\n"
     ]
    }
   ],
   "source": [
    "a = 5\n",
    "print(f'\\nnilai a adalah {a}')"
   ]
  },
  {
   "cell_type": "code",
   "execution_count": 2,
   "metadata": {},
   "outputs": [
    {
     "name": "stdout",
     "output_type": "stream",
     "text": [
      "\n",
      "Dengan a += 1, maka\n",
      "\tnilai a adalah 6\n"
     ]
    }
   ],
   "source": [
    "a += 1\n",
    "# Artinya a = a + 1 atau a perintah +1\n",
    "print('\\nDengan a += 1, maka')\n",
    "print(f'\\tnilai a adalah {a}')\n",
    "# Penambah/atau yg lain boleh selain 1"
   ]
  },
  {
   "cell_type": "code",
   "execution_count": 3,
   "metadata": {},
   "outputs": [
    {
     "name": "stdout",
     "output_type": "stream",
     "text": [
      "\n",
      "Dengan a -= 3, maka\n",
      "\tnilai a adalah 3\n"
     ]
    }
   ],
   "source": [
    "a -= 3\n",
    "# Artinya a = a - 3 atau a perintah -3\n",
    "print('\\nDengan a -= 3, maka')\n",
    "print(f'\\tnilai a adalah {a}')\n"
   ]
  },
  {
   "cell_type": "code",
   "execution_count": 4,
   "metadata": {},
   "outputs": [
    {
     "name": "stdout",
     "output_type": "stream",
     "text": [
      "\n",
      "Dengan a *= 10, maka\n",
      "\tnilai a adalah 30\n"
     ]
    }
   ],
   "source": [
    "a *= 10\n",
    "# Artinya a = a * 10 atau a perintah *10\n",
    "print('\\nDengan a *= 10, maka')\n",
    "print(f'\\tnilai a adalah {a}')"
   ]
  },
  {
   "cell_type": "code",
   "execution_count": 5,
   "metadata": {},
   "outputs": [
    {
     "name": "stdout",
     "output_type": "stream",
     "text": [
      "\n",
      "Dengan a /= 2, maka\n",
      "\tnilai a adalah 15.0\n"
     ]
    }
   ],
   "source": [
    "a /= 2\n",
    "# Artinya a = a / 2 atau a perintah /2\n",
    "print('\\nDengan a /= 2, maka')\n",
    "print(f'\\tnilai a adalah {a}')"
   ]
  },
  {
   "cell_type": "code",
   "execution_count": 6,
   "metadata": {},
   "outputs": [
    {
     "name": "stdout",
     "output_type": "stream",
     "text": [
      "\n",
      "Dengan a %= 4, maka\n",
      "\tnilai a adalah 3.0\n"
     ]
    }
   ],
   "source": [
    "a %= 4\n",
    "# Artinya a = a mod 4 atau a perintah mod 4\n",
    "print('\\nDengan a %= 4, maka')\n",
    "print(f'\\tnilai a adalah {a}')"
   ]
  },
  {
   "cell_type": "code",
   "execution_count": 7,
   "metadata": {},
   "outputs": [
    {
     "name": "stdout",
     "output_type": "stream",
     "text": [
      "\n",
      "nilai a adalah 15\n",
      "\n",
      "Dengan a //= 6, maka\n",
      "\tnilai a adalah 2\n"
     ]
    }
   ],
   "source": [
    "a = 15\n",
    "print(f'\\nnilai a adalah {a}')\n",
    "a //= 6\n",
    "# Artinya a = a // 6 atau a perintah // 6\n",
    "print('\\nDengan a //= 6, maka')\n",
    "print(f'\\tnilai a adalah {a}')"
   ]
  },
  {
   "cell_type": "code",
   "execution_count": 8,
   "metadata": {},
   "outputs": [
    {
     "name": "stdout",
     "output_type": "stream",
     "text": [
      "\n",
      "Dengan a **= 7, maka\n",
      "\tnilai a adalah 128\n"
     ]
    }
   ],
   "source": [
    "a **= 7\n",
    "# Artinya a = a ** 7 atau a perintah ** 7\n",
    "print('\\nDengan a **= 7, maka')\n",
    "print(f'\\tnilai a adalah {a}')"
   ]
  },
  {
   "attachments": {},
   "cell_type": "markdown",
   "metadata": {},
   "source": [
    "Code-code di atas, secara keseluruhan terus-menerus mengubah nilai a. Artinya, nilai a ditugaskan (di-assignment-kan) di setiap codenya. Perhatikan perubahan nilai a setiap akhir code!"
   ]
  },
  {
   "attachments": {},
   "cell_type": "markdown",
   "metadata": {},
   "source": [
    "Ruas kanan tidak harus berupa numerik, dapat juga berupa variabel dengan nilai numerik. Contoh,"
   ]
  },
  {
   "cell_type": "code",
   "execution_count": 12,
   "metadata": {},
   "outputs": [
    {
     "name": "stdout",
     "output_type": "stream",
     "text": [
      "94\n"
     ]
    }
   ],
   "source": [
    "a = 100\n",
    "b = 3\n",
    "\n",
    "a += b # Hasil 103\n",
    "a -= (3*b) # Hasil 94\n",
    "a %= b # Hasil 1\n",
    "\n",
    "print(a)"
   ]
  },
  {
   "attachments": {},
   "cell_type": "markdown",
   "metadata": {},
   "source": [
    "Challenge 1: Perbaiki code di bawah ini (klu: hanya pada assignment)"
   ]
  },
  {
   "cell_type": "code",
   "execution_count": 13,
   "metadata": {},
   "outputs": [
    {
     "name": "stdout",
     "output_type": "stream",
     "text": [
      "120\n",
      "24\n",
      "55\n",
      "5050\n"
     ]
    }
   ],
   "source": [
    "def faktorial(nilai):\n",
    "    result = 1\n",
    "    while nilai > 0:\n",
    "        result = result * nilai\n",
    "        nilai = nilai - 1\n",
    "    return result\n",
    "\n",
    "def penjumlahan_berurutan(awal, akhir):\n",
    "    hasil = 0\n",
    "    while awal < (akhir+1):\n",
    "        hasil = hasil + awal\n",
    "        awal = awal + 1\n",
    "    return hasil\n",
    "\n",
    "print(faktorial(5))\n",
    "print(faktorial(4))\n",
    "print()\n",
    "\n",
    "print(penjumlahan_berurutan(1,10))\n",
    "print(penjumlahan_berurutan(1,100))\n"
   ]
  }
 ],
 "metadata": {
  "kernelspec": {
   "display_name": "Python 3",
   "language": "python",
   "name": "python3"
  },
  "language_info": {
   "codemirror_mode": {
    "name": "ipython",
    "version": 3
   },
   "file_extension": ".py",
   "mimetype": "text/x-python",
   "name": "python",
   "nbconvert_exporter": "python",
   "pygments_lexer": "ipython3",
   "version": "3.11.2"
  },
  "orig_nbformat": 4
 },
 "nbformat": 4,
 "nbformat_minor": 2
}
