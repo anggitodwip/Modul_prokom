{
 "cells": [
  {
   "attachments": {},
   "cell_type": "markdown",
   "metadata": {},
   "source": [
    "## Format String\n",
    "1. Penulisan string ('x'), (\"x\"), ('''x'''), dan raw/literal"
   ]
  },
  {
   "cell_type": "code",
   "execution_count": 4,
   "metadata": {},
   "outputs": [
    {
     "name": "stdout",
     "output_type": "stream",
     "text": [
      "Haloo!\n",
      "Selamat pagi\n",
      "Assalamualaikum\n",
      "Shallom\n",
      "Om Swasthiastu\n",
      "Namo Buddhaya\n",
      "Salam Sejahtera\n",
      "dan Salam Kebajikan bagi Kita Semwa!\n",
      "{{{}}}as\\nljhjdehfiucifdwvuwd9irgrwiovwgrwdg\\[fsbh]\\gshprisponj[gbjskonbgsjngbsmgdngbisfjngsijg]\n"
     ]
    }
   ],
   "source": [
    "# Penulisan dengan petik tunggal\n",
    "str1 = 'Haloo!'\n",
    "\n",
    "# Penulisan dengan petik ganda\n",
    "str2 = \"Selamat pagi\"\n",
    "\n",
    "# Penulisan string multiline\n",
    "str3 = '''Assalamualaikum\n",
    "Shallom\n",
    "Om Swasthiastu\n",
    "Namo Buddhaya\n",
    "Salam Sejahtera\n",
    "dan Salam Kebajikan bagi Kita Semwa!'''\n",
    "\n",
    "# Penulisan raw string (literal)\n",
    "straneh = r\"{{{}}}as\\nljhjdehfiucifdwvuwd9irgrwiovwgrwdg\\[fsbh]\\gshprisponj[gbjskonbgsjngbsmgdngbisfjngsijg]\"\n",
    "# Raw string menegasikan format seperti \\n \\t atau \\ dan menjadikannya sebagai bagian dari string itu sendiri\n",
    "\n",
    "# hasil print\n",
    "print(str1)\n",
    "print(str2)\n",
    "print(str3)\n",
    "print(straneh)\n"
   ]
  },
  {
   "attachments": {},
   "cell_type": "markdown",
   "metadata": {},
   "source": [
    "2. Concantenate String\n",
    "\n",
    "dengan `strx + stry`, outputnya adalah {strx}{stry} tanpa spasi"
   ]
  },
  {
   "cell_type": "code",
   "execution_count": 5,
   "metadata": {},
   "outputs": [
    {
     "name": "stdout",
     "output_type": "stream",
     "text": [
      "Hallo,DwiAnggito\n"
     ]
    }
   ],
   "source": [
    "str1 = \"Anggito\"\n",
    "str2 = \"Dwi\"\n",
    "\n",
    "print(\"Hallo\"+\",\"+str2+str1)"
   ]
  },
  {
   "attachments": {},
   "cell_type": "markdown",
   "metadata": {},
   "source": [
    "3. Model format\n",
    "Ada dua model format pada string, yaitu,\n",
    "* `f\"{var1} {var2} {var3:xx}\"`\n",
    "* `\"{} {} {:xx}\".format(var1, var2, var3)`"
   ]
  },
  {
   "cell_type": "code",
   "execution_count": 6,
   "metadata": {},
   "outputs": [
    {
     "name": "stdout",
     "output_type": "stream",
     "text": [
      "Hallo saya Anggito, dan ini teman saya Chezava danBagus\n",
      "Anggito adalah mahasiswa Teknik Industri UNS. Dan Anggito sekarang tinggal di Surakarta\n",
      "Chezava adalah mahasiswa Teknik Industri UNS. Dan Chezava sekarang tinggal di Surakarta\n",
      "Bagus adalah mahasiswa Teknik Industri UNS. Dan Bagus sekarang tinggal di Surakarta\n"
     ]
    }
   ],
   "source": [
    "nama1 = 'Anggito'\n",
    "nama2 = 'Chezava'\n",
    "nama3 = 'Bagus'\n",
    "\n",
    "print(f\"Hallo saya {nama1}, dan ini teman saya {nama2} dan{nama3}\")\n",
    "\n",
    "# Atau\n",
    "str1 = \"{} adalah mahasiswa Teknik Industri UNS. Dan {} sekarang tinggal di Surakarta\"\n",
    "\n",
    "print(str1.format(nama1,nama1))\n",
    "print(str1.format(nama2,nama2))\n",
    "print(str1.format(nama3,nama3))"
   ]
  },
  {
   "attachments": {},
   "cell_type": "markdown",
   "metadata": {},
   "source": [
    "### formatting string\n",
    "1. Rata kiri, tengah, dan kanan"
   ]
  },
  {
   "cell_type": "code",
   "execution_count": 7,
   "metadata": {},
   "outputs": [
    {
     "name": "stdout",
     "output_type": "stream",
     "text": [
      "Anggito   \n",
      " Chezava  \n",
      "     Bagus\n"
     ]
    }
   ],
   "source": [
    "nama1 = 'Anggito'\n",
    "nama2 = 'Chezava'\n",
    "nama3 = 'Bagus'\n",
    "\n",
    "print(f\"{nama1:<10}\")\n",
    "print(f\"{nama2:^10}\")\n",
    "print(f\"{nama3:>10}\")"
   ]
  },
  {
   "attachments": {},
   "cell_type": "markdown",
   "metadata": {},
   "source": [
    "2. Grouping ribuan dan belakang koma\n",
    "* , sebagai grouping\n",
    "* .2f sebagai penanda float, dengan 2 angka di belakang koma"
   ]
  },
  {
   "cell_type": "code",
   "execution_count": 8,
   "metadata": {},
   "outputs": [
    {
     "name": "stdout",
     "output_type": "stream",
     "text": [
      "Uang Kamu sekarang adalah 15,000.00\n"
     ]
    }
   ],
   "source": [
    "uang = 15000\n",
    "\n",
    "print(f\"Uang Kamu sekarang adalah {uang:,.2f}\")"
   ]
  },
  {
   "attachments": {},
   "cell_type": "markdown",
   "metadata": {},
   "source": [
    "3. Binary\n",
    "* 0-8-b,\n",
    "* 0 sebagai leading (pengisi bagian depan), bisa diganti spasi\n",
    "* 8 adalah space yg dipakai\n",
    "* b adalah binary"
   ]
  },
  {
   "cell_type": "code",
   "execution_count": 9,
   "metadata": {},
   "outputs": [
    {
     "name": "stdout",
     "output_type": "stream",
     "text": [
      "00010100\n",
      "00000101\n"
     ]
    }
   ],
   "source": [
    "int1 = 20\n",
    "int2 = 5\n",
    "\n",
    "print(f\"{int1:08b}\")\n",
    "print(f\"{int2:08b}\")"
   ]
  },
  {
   "attachments": {},
   "cell_type": "markdown",
   "metadata": {},
   "source": [
    "### Operator String\n",
    "1. len()\n",
    "* Mengembalikan panjang suatu string (termasuk spasi)"
   ]
  },
  {
   "cell_type": "code",
   "execution_count": 10,
   "metadata": {},
   "outputs": [
    {
     "name": "stdout",
     "output_type": "stream",
     "text": [
      "7 7 5\n"
     ]
    }
   ],
   "source": [
    "nama1 = 'Anggito'\n",
    "nama2 = 'Chezava'\n",
    "nama3 = 'Bagus'\n",
    "\n",
    "print(len(nama1), len(nama2), len(nama3))"
   ]
  },
  {
   "attachments": {},
   "cell_type": "markdown",
   "metadata": {},
   "source": [
    "2. count()\n",
    "Mengembalikan berapa kali substring muncul pada string. Substring adalah sebagian dari string"
   ]
  },
  {
   "cell_type": "code",
   "execution_count": 11,
   "metadata": {},
   "outputs": [
    {
     "name": "stdout",
     "output_type": "stream",
     "text": [
      "2 0\n"
     ]
    }
   ],
   "source": [
    "namaneh = \"Uvuvwevwevwe Onyetenyevwe Ugwemubwem Ossas\"\n",
    "banyak_u = namaneh.count(\"u\")\n",
    "banyak_o = namaneh.count(\"o\")\n",
    "\n",
    "print(banyak_u, banyak_o)"
   ]
  },
  {
   "attachments": {},
   "cell_type": "markdown",
   "metadata": {},
   "source": [
    "3. identitas in / not in"
   ]
  },
  {
   "cell_type": "code",
   "execution_count": 13,
   "metadata": {},
   "outputs": [
    {
     "name": "stdout",
     "output_type": "stream",
     "text": [
      "Anggito Dwi Prihantoro\n",
      "True False\n"
     ]
    }
   ],
   "source": [
    "first_name = \"Anggito\"\n",
    "middle_name = \"Dwi\"\n",
    "last_name = \"Prihantoro\"\n",
    "\n",
    "# Concantenate\n",
    "full_name = first_name + \" \" + middle_name + \" \" + last_name\n",
    "print(full_name) # Anggito Dwi Prihantoro\n",
    "\n",
    "bool1 = \"Anggi\" in full_name\n",
    "bool2 = \"Ito\" in full_name\n",
    "\n",
    "print(bool1, bool2)"
   ]
  },
  {
   "attachments": {},
   "cell_type": "markdown",
   "metadata": {},
   "source": [
    "4. Indexing\n",
    "* [a:b:c]\n",
    "* a adalah posisi mulai\n",
    "* b adalah posisi akhir (index b sendiri tidak termasuk)\n",
    "* c adalah lompatan (default:1) "
   ]
  },
  {
   "cell_type": "code",
   "execution_count": 15,
   "metadata": {},
   "outputs": [
    {
     "name": "stdout",
     "output_type": "stream",
     "text": [
      "Anggito\n",
      "Agio\n",
      "gi\n",
      "otiggnA\n"
     ]
    }
   ],
   "source": [
    "first_name = \"Anggito\"\n",
    "\n",
    "print(first_name[:7])\n",
    "print(first_name[0::2])\n",
    "print(first_name[3:5])\n",
    "print(first_name[::-1])\n"
   ]
  },
  {
   "attachments": {},
   "cell_type": "markdown",
   "metadata": {},
   "source": [
    "5. lower() dan upper()\n",
    "* Mengembalikan lowercase atau uppercase dari string"
   ]
  },
  {
   "cell_type": "code",
   "execution_count": 16,
   "metadata": {},
   "outputs": [
    {
     "name": "stdout",
     "output_type": "stream",
     "text": [
      "anggito\n",
      "ANGGITO\n"
     ]
    }
   ],
   "source": [
    "first_name = \"Anggito\"\n",
    "middle_name = \"Dwi\"\n",
    "last_name = \"Prihantoro\"\n",
    "\n",
    "print(first_name.lower())\n",
    "print(first_name.upper())"
   ]
  }
 ],
 "metadata": {
  "kernelspec": {
   "display_name": "Python 3",
   "language": "python",
   "name": "python3"
  },
  "language_info": {
   "codemirror_mode": {
    "name": "ipython",
    "version": 3
   },
   "file_extension": ".py",
   "mimetype": "text/x-python",
   "name": "python",
   "nbconvert_exporter": "python",
   "pygments_lexer": "ipython3",
   "version": "3.11.2"
  },
  "orig_nbformat": 4
 },
 "nbformat": 4,
 "nbformat_minor": 2
}
