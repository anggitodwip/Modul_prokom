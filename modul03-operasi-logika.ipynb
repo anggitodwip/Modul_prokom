{
 "cells": [
  {
   "attachments": {},
   "cell_type": "markdown",
   "metadata": {},
   "source": [
    "## Operasi Logika\n",
    "Melibatkan pernyataan ```True``` dan ```False``` berdasarkan logika matematika"
   ]
  },
  {
   "attachments": {},
   "cell_type": "markdown",
   "metadata": {},
   "source": [
    "### 1. ```not```\n",
    "Menyatakan negasi dari suatu pernyataan. Misal,\n",
    "* ```not True``` adalah ```False```, dan\n",
    "* ```not False``` adalah ```True```."
   ]
  },
  {
   "cell_type": "code",
   "execution_count": 1,
   "metadata": {},
   "outputs": [
    {
     "name": "stdout",
     "output_type": "stream",
     "text": [
      "data a adalah True\n",
      "negasi dari a adalah False\n",
      "negasi dari negasi a adalah True\n",
      "negasi dari c adalah True\n"
     ]
    }
   ],
   "source": [
    "a = True\n",
    "c = not a\n",
    "d = not not a\n",
    "print(\"data a adalah\",a)\n",
    "print(\"negasi dari a adalah\",c)\n",
    "print(\"negasi dari negasi a adalah\",d)\n",
    "print(\"negasi dari c adalah\",d)"
   ]
  },
  {
   "attachments": {},
   "cell_type": "markdown",
   "metadata": {},
   "source": [
    "### 2. ```and``` dan ```or```\n",
    "Menyatakan pernyataan \"dan\" / \"atau\" seperti pada logika matematika"
   ]
  },
  {
   "cell_type": "code",
   "execution_count": 3,
   "metadata": {},
   "outputs": [
    {
     "name": "stdout",
     "output_type": "stream",
     "text": [
      "====or====\n",
      "True or True = True\n",
      "False or True = True\n",
      "True or False = True\n",
      "False or False = False\n",
      "\n",
      "====and====\n",
      "True and True = True\n",
      "False and True = False\n",
      "True and False = False\n",
      "False and False = False\n"
     ]
    }
   ],
   "source": [
    "print('====or====')\n",
    "a = True\n",
    "b = True\n",
    "c = a or b\n",
    "print(a, \"or\" ,b, \"=\" ,c)\n",
    "a = False\n",
    "b = True\n",
    "c = a or b\n",
    "print(a, \"or\" ,b, \"=\" ,c)\n",
    "a = True\n",
    "b = False\n",
    "c = a or b\n",
    "print(a, \"or\" ,b, \"=\" ,c)\n",
    "a = False\n",
    "b = False\n",
    "c = a or b\n",
    "print(a, \"or\" ,b, \"=\" ,c)\n",
    "\n",
    "print('\\n====and====')\n",
    "a = True\n",
    "b = True\n",
    "c = a and b\n",
    "print(a, \"and\" ,b, \"=\" ,c)\n",
    "a = False\n",
    "b = True\n",
    "c = a and b\n",
    "print(a, \"and\" ,b, \"=\" ,c)\n",
    "a = True\n",
    "b = False\n",
    "c = a and b\n",
    "print(a, \"and\" ,b, \"=\" ,c)\n",
    "a = False\n",
    "b = False\n",
    "c = a and b\n",
    "print(a, \"and\" ,b, \"=\" ,c)"
   ]
  },
  {
   "attachments": {},
   "cell_type": "markdown",
   "metadata": {},
   "source": [
    "### 3. ```^``` atau xor\n",
    "Mengembalikan ```True``` apabila kedua pernyataan berlawanan dan ```False``` apabila kedua pernyataan sama"
   ]
  },
  {
   "cell_type": "code",
   "execution_count": null,
   "metadata": {},
   "outputs": [],
   "source": [
    "print('====xor====')\n",
    "a = True\n",
    "b = True\n",
    "c = a ^ b\n",
    "print(a, \"xor\" ,b, \"=\" ,c)\n",
    "a = False\n",
    "b = True\n",
    "c = a ^ b\n",
    "print(a, \"xor\" ,b, \"=\" ,c)\n",
    "a = True\n",
    "b = False\n",
    "c = a ^ b\n",
    "print(a, \"xor\" ,b, \"=\" ,c)\n",
    "a = False\n",
    "b = False\n",
    "c = a ^ b\n",
    "print(a, \"xor\" ,b, \"=\" ,c)"
   ]
  },
  {
   "attachments": {},
   "cell_type": "markdown",
   "metadata": {},
   "source": [
    "### 4. ```in``` dan ```not in```\n",
    "Menyatakan apakah satu nilai berada (atau tidak ada) pada nilai berikutnya, misal,\n",
    "* ```\"a\" in \"aiueo\"``` memberikan ```True```\n",
    "* ```4 in [2,4,6,8,10]``` memberikan ```True```\n",
    "* ```\"dosa\" not in [\"Baik\", \"Aman\"]``` memberikan ```True```\n",
    "\n",
    "Catatan: Hanya untuk percabangan"
   ]
  }
 ],
 "metadata": {
  "kernelspec": {
   "display_name": "Python 3",
   "language": "python",
   "name": "python3"
  },
  "language_info": {
   "codemirror_mode": {
    "name": "ipython",
    "version": 3
   },
   "file_extension": ".py",
   "mimetype": "text/x-python",
   "name": "python",
   "nbconvert_exporter": "python",
   "pygments_lexer": "ipython3",
   "version": "3.11.2"
  },
  "orig_nbformat": 4
 },
 "nbformat": 4,
 "nbformat_minor": 2
}
