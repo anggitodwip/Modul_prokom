{
 "cells": [
  {
   "attachments": {},
   "cell_type": "markdown",
   "metadata": {},
   "source": [
    "# Modul 06: Defined Function\n",
    "\"Fungsi yang dalam penggunaannya harus didefinisikan terlebih dahulu oleh user. Dapat berisi serangkaian proses yang melibatkan print() atau `return` suatu nilai. Harus didefinisikan sebelum dipanggil.\"\n",
    "\n",
    "Kenapa harus function? Karena ada serangkaian proses yang membutuhkan repetisi proses yang sama dan dengan nilai yang akan diproses berbeda-beda"
   ]
  },
  {
   "cell_type": "code",
   "execution_count": 2,
   "metadata": {},
   "outputs": [
    {
     "name": "stdout",
     "output_type": "stream",
     "text": [
      "5.0\n",
      "13.0\n",
      "14.142135623730951\n"
     ]
    }
   ],
   "source": [
    "# Contoh defined Function\n",
    "# Program menghitung sisi miring segitiga\n",
    "\n",
    "def sisi_miring_segitiga(sisi1, sisi2, pangkat=2):\n",
    "    return (sisi1**pangkat + sisi2**pangkat)**(1/pangkat)\n",
    "\n",
    "print(sisi_miring_segitiga(3,4)) # Pytagoras\n",
    "print(sisi_miring_segitiga(5,12)) # Pytagoras\n",
    "print(sisi_miring_segitiga(10,10))"
   ]
  },
  {
   "cell_type": "code",
   "execution_count": 5,
   "metadata": {},
   "outputs": [
    {
     "name": "stdout",
     "output_type": "stream",
     "text": [
      "['Ramuan', 'Pedang', 'Kantung', 'Apel']\n",
      "[0, 1, 2, 3, 4, 5, 6, 7, 8, 9]\n"
     ]
    }
   ],
   "source": [
    "# Contoh defined Function\n",
    "# Program pada list untuk menggeser anggota terakhir ke depan\n",
    "\n",
    "def geser_ke_depan(listnya):\n",
    "    anggota_terakhir = listnya.pop(-1)\n",
    "    listnya.insert(0, anggota_terakhir)\n",
    "    return listnya\n",
    "\n",
    "list1 = [\"Pedang\", \"Kantung\", \"Apel\", \"Ramuan\"]\n",
    "print(geser_ke_depan(list1))\n",
    "list1 = [1,2,3,4,5,6,7,8,9,0]\n",
    "print(geser_ke_depan(list1))"
   ]
  },
  {
   "attachments": {},
   "cell_type": "markdown",
   "metadata": {},
   "source": [
    "Catatan: Apabila pada function hanya memerlukan untuk menampilkan beberapa data saja,\n",
    "* Pada function tidak dibutuhkan return.\n",
    "* Sekaligus pada pemanggilan tidak perlu print"
   ]
  },
  {
   "cell_type": "code",
   "execution_count": 6,
   "metadata": {},
   "outputs": [
    {
     "name": "stdout",
     "output_type": "stream",
     "text": [
      "Kepada Yth. Anton\n",
      "Peringatan kami sampaikan kepada Anton,\n",
      "bahwasanya tanah atas kepemilikan Anton.\n",
      "Sudah bukan milik Anton.\n",
      "\n",
      "Mohon kesediaan Anton,\n",
      "untuk segera mengurus berkas2 yg diperlukan.\n",
      "\n",
      "Kepada Yth. Boedi\n",
      "Peringatan kami sampaikan kepada Boedi,\n",
      "bahwasanya tanah atas kepemilikan Boedi.\n",
      "Sudah bukan milik Boedi.\n",
      "\n",
      "Mohon kesediaan Boedi,\n",
      "untuk segera mengurus berkas2 yg diperlukan.\n",
      "\n"
     ]
    }
   ],
   "source": [
    "# Contoh defined Function\n",
    "# Program untuk mengirim pemberitahuan dengan nama tertentu\n",
    "\n",
    "def pemberitahuan(nama):\n",
    "    print(f\"Kepada Yth. {nama}\")\n",
    "    print(f'''Peringatan kami sampaikan kepada {nama},\n",
    "bahwasanya tanah atas kepemilikan {nama}.\n",
    "Sudah bukan milik {nama}.\n",
    "''')\n",
    "    print(f'''Mohon kesediaan {nama},\n",
    "untuk segera mengurus berkas2 yg diperlukan.\n",
    "''')\n",
    "    # Tidak pakai return apabila sudah ada print di atas\n",
    "\n",
    "pemberitahuan(\"Anton\") # Tidak perlu print di depan\n",
    "pemberitahuan(\"Boedi\")"
   ]
  }
 ],
 "metadata": {
  "kernelspec": {
   "display_name": "Python 3",
   "language": "python",
   "name": "python3"
  },
  "language_info": {
   "codemirror_mode": {
    "name": "ipython",
    "version": 3
   },
   "file_extension": ".py",
   "mimetype": "text/x-python",
   "name": "python",
   "nbconvert_exporter": "python",
   "pygments_lexer": "ipython3",
   "version": "3.11.2"
  },
  "orig_nbformat": 4
 },
 "nbformat": 4,
 "nbformat_minor": 2
}
