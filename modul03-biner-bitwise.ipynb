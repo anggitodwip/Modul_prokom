{
 "cells": [
  {
   "attachments": {},
   "cell_type": "markdown",
   "metadata": {},
   "source": [
    "## Bilangan Biner dan Operasi Bitwise"
   ]
  },
  {
   "attachments": {},
   "cell_type": "markdown",
   "metadata": {},
   "source": [
    "\"Bilangan biner adalah serangkaian angka 0 dan 1 yang mewakili suatu nilai integer.\"\n",
    "* Bilangan biner bisa dicari dengan fungsi ```bin()``` dan dikembalikan dengan ```int()```\n"
   ]
  },
  {
   "cell_type": "code",
   "execution_count": 2,
   "metadata": {},
   "outputs": [
    {
     "name": "stdout",
     "output_type": "stream",
     "text": [
      "0b10100 0b1 -0b11\n"
     ]
    }
   ],
   "source": [
    "int1 = 20\n",
    "int2 = 1\n",
    "int3 = -3\n",
    "\n",
    "bin1 = bin(int1)\n",
    "bin2 = bin(int2)\n",
    "bin3 = bin(int3)\n",
    "\n",
    "print(bin1, bin2, bin3)"
   ]
  },
  {
   "attachments": {},
   "cell_type": "markdown",
   "metadata": {},
   "source": [
    "Cara mengembalikan biner ke integer,"
   ]
  },
  {
   "cell_type": "code",
   "execution_count": 8,
   "metadata": {},
   "outputs": [
    {
     "name": "stdout",
     "output_type": "stream",
     "text": [
      "14\n",
      "42\n"
     ]
    }
   ],
   "source": [
    "bin1 = 0b01110\n",
    "\n",
    "int1 = int(bin1)\n",
    "print(int1)\n",
    "\n",
    "bin1 = \"0b101010\"\n",
    "\n",
    "int1 = int(bin1,2) # int(binernya, 2) => angka 2 harus\n",
    "print(int1)"
   ]
  },
  {
   "attachments": {},
   "cell_type": "markdown",
   "metadata": {},
   "source": [
    "Penulisan biner dengan tanpa 0b di depan bisa menggunakan fungsi format():"
   ]
  },
  {
   "cell_type": "code",
   "execution_count": 13,
   "metadata": {},
   "outputs": [
    {
     "name": "stdout",
     "output_type": "stream",
     "text": [
      "0101\n",
      "0101\n",
      "   1011\n",
      " 10000\n"
     ]
    }
   ],
   "source": [
    "int1 = 5\n",
    "bin1 = format(int1, \"04b\")\n",
    "\n",
    "print(bin1)\n",
    "\n",
    "int2 = 5\n",
    "\n",
    "print(f\"{int2:04b}\")\n",
    "\n",
    "# 0 artinya dilead dengan 0 (bisa spasi kosong)\n",
    "# 4 artinya nilai mengokupasi 4 space\n",
    "# b artinya format biner\n",
    "\n",
    "int3 = 11\n",
    "bin3 = format(int3, \" 7b\")\n",
    "\n",
    "print(bin3)\n",
    "\n",
    "int4 = 16\n",
    "\n",
    "print(f\"{int4: 6b}\")"
   ]
  },
  {
   "attachments": {},
   "cell_type": "markdown",
   "metadata": {},
   "source": [
    "### Operasi Bitwise\n",
    "Pada operasi bitwise, bilangan biner dengan rangkaian 0 dan 1 memiliki arti `True` untuk 1 dan `False` untuk 0\n",
    "1. `|` (and), `&` (or), dan `^` (xor)"
   ]
  },
  {
   "cell_type": "code",
   "execution_count": 19,
   "metadata": {},
   "outputs": [
    {
     "name": "stdout",
     "output_type": "stream",
     "text": [
      "00001100\n",
      "00110110\n"
     ]
    }
   ],
   "source": [
    "a = 12\n",
    "b = 54\n",
    "\n",
    "format_a = format(a,\"08b\")\n",
    "format_b = format(b,\"08b\")\n",
    "\n",
    "print(format_a)\n",
    "print(format_b)"
   ]
  },
  {
   "cell_type": "code",
   "execution_count": 20,
   "metadata": {},
   "outputs": [
    {
     "name": "stdout",
     "output_type": "stream",
     "text": [
      "nilai a = 12, bin = 00001100\n",
      "nilai a = 54, bin = 00110110\n",
      "================================= (and)\n",
      "nilai a = 4, bin = 00000100\n"
     ]
    }
   ],
   "source": [
    "c = a & b\n",
    "format_c = format(c,\"08b\")\n",
    "\n",
    "print(f\"nilai a = {a}, bin = {format_a}\")\n",
    "print(f\"nilai a = {b}, bin = {format_b}\")\n",
    "print(\"================================= (and)\")\n",
    "print(f\"nilai a = {c}, bin = {format_c}\")"
   ]
  },
  {
   "cell_type": "code",
   "execution_count": 21,
   "metadata": {},
   "outputs": [
    {
     "name": "stdout",
     "output_type": "stream",
     "text": [
      "nilai a = 12, bin = 00001100\n",
      "nilai a = 54, bin = 00110110\n",
      "================================= (or)\n",
      "nilai a = 62, bin = 00111110\n"
     ]
    }
   ],
   "source": [
    "c = a | b\n",
    "format_c = format(c,\"08b\")\n",
    "\n",
    "print(f\"nilai a = {a}, bin = {format_a}\")\n",
    "print(f\"nilai a = {b}, bin = {format_b}\")\n",
    "print(\"================================= (or)\")\n",
    "print(f\"nilai a = {c}, bin = {format_c}\")"
   ]
  },
  {
   "cell_type": "code",
   "execution_count": 22,
   "metadata": {},
   "outputs": [
    {
     "name": "stdout",
     "output_type": "stream",
     "text": [
      "nilai a = 12, bin = 00001100\n",
      "nilai a = 54, bin = 00110110\n",
      "================================= (xor)\n",
      "nilai a = 58, bin = 00111010\n"
     ]
    }
   ],
   "source": [
    "c = a ^ b\n",
    "format_c = format(c,\"08b\")\n",
    "\n",
    "print(f\"nilai a = {a}, bin = {format_a}\")\n",
    "print(f\"nilai a = {b}, bin = {format_b}\")\n",
    "print(\"================================= (xor)\")\n",
    "print(f\"nilai a = {c}, bin = {format_c}\")"
   ]
  },
  {
   "attachments": {},
   "cell_type": "markdown",
   "metadata": {},
   "source": [
    "2. `<<` (Shift Left) dan `>>` (Shift Right)"
   ]
  },
  {
   "cell_type": "code",
   "execution_count": 1,
   "metadata": {},
   "outputs": [
    {
     "name": "stdout",
     "output_type": "stream",
     "text": [
      "00001100\n",
      "00110110\n"
     ]
    }
   ],
   "source": [
    "a = 12\n",
    "b = 54\n",
    "\n",
    "format_a = format(a,\"08b\")\n",
    "format_b = format(b,\"08b\")\n",
    "\n",
    "print(format_a)\n",
    "print(format_b)"
   ]
  },
  {
   "cell_type": "code",
   "execution_count": 2,
   "metadata": {},
   "outputs": [
    {
     "name": "stdout",
     "output_type": "stream",
     "text": [
      "nilai a = 12, bin = 00001100\n",
      "================================= (<< 2)\n",
      "nilai a = 48, bin = 00110000\n"
     ]
    }
   ],
   "source": [
    "c = a << 2\n",
    "format_c = format(c,\"08b\")\n",
    "\n",
    "print(f\"nilai a = {a}, bin = {format_a}\")\n",
    "print(\"================================= (<< 2)\")\n",
    "print(f\"nilai a = {c}, bin = {format_c}\")"
   ]
  },
  {
   "cell_type": "code",
   "execution_count": 3,
   "metadata": {},
   "outputs": [
    {
     "name": "stdout",
     "output_type": "stream",
     "text": [
      "nilai b = 54, bin = 00110110\n",
      "================================= (>> 1)\n",
      "nilai a = 27, bin = 00011011\n"
     ]
    }
   ],
   "source": [
    "c = b >> 1\n",
    "format_c = format(c,\"08b\")\n",
    "\n",
    "print(f\"nilai b = {b}, bin = {format_b}\")\n",
    "print(\"================================= (>> 1)\")\n",
    "print(f\"nilai a = {c}, bin = {format_c}\")"
   ]
  },
  {
   "attachments": {},
   "cell_type": "markdown",
   "metadata": {},
   "source": [
    "Challenge 1:\n",
    "Diberikan bahwa,\n",
    "* ```x = 7```\n",
    "* ```y = 11```\n",
    "\n",
    "Tuliskan operasi dengan operator HANYA bitwise dari dua bilangan di atas agar menghasilkan output nilai menjadi:\n",
    "* ```a = 15```\n",
    "* ```b = -1```\n",
    "* ```c = 4```"
   ]
  }
 ],
 "metadata": {
  "kernelspec": {
   "display_name": "Python 3",
   "language": "python",
   "name": "python3"
  },
  "language_info": {
   "codemirror_mode": {
    "name": "ipython",
    "version": 3
   },
   "file_extension": ".py",
   "mimetype": "text/x-python",
   "name": "python",
   "nbconvert_exporter": "python",
   "pygments_lexer": "ipython3",
   "version": "3.11.2"
  },
  "orig_nbformat": 4
 },
 "nbformat": 4,
 "nbformat_minor": 2
}
