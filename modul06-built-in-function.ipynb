{
 "cells": [
  {
   "attachments": {},
   "cell_type": "markdown",
   "metadata": {},
   "source": [
    "# Modul 06: Built in Function"
   ]
  },
  {
   "attachments": {},
   "cell_type": "markdown",
   "metadata": {},
   "source": [
    "\"Fungsi yang sudah didefinisikan pada python dan dapat langsung dipanggil (digunakan) tanpa meng-import library eksternal\"\n",
    "\n",
    "BI-Function sudah banyak dipakai selama Prokom, berikut ini adalah contoh2nya,"
   ]
  },
  {
   "attachments": {},
   "cell_type": "markdown",
   "metadata": {},
   "source": [
    "#### 1. print()\n",
    "Menampilkan variabel atau nilai pada terimal"
   ]
  },
  {
   "cell_type": "code",
   "execution_count": 1,
   "metadata": {},
   "outputs": [
    {
     "name": "stdout",
     "output_type": "stream",
     "text": [
      "23\n",
      "2.5\n",
      "False Coba lagi\n"
     ]
    }
   ],
   "source": [
    "int1 = 23\n",
    "float1 = 2.5\n",
    "str1 = \"Coba lagi\"\n",
    "bool1 = False\n",
    "\n",
    "print(int1)\n",
    "print(float1)\n",
    "print(bool1, str1)"
   ]
  },
  {
   "attachments": {},
   "cell_type": "markdown",
   "metadata": {},
   "source": [
    "#### 2. input()\n",
    "Membolehkan user untuk meng-input sesuatu pada program untuk diproses"
   ]
  },
  {
   "cell_type": "code",
   "execution_count": 2,
   "metadata": {},
   "outputs": [
    {
     "name": "stdout",
     "output_type": "stream",
     "text": [
      "Abang\n"
     ]
    }
   ],
   "source": [
    "ui1 = input(\"Masukkan namamu\")\n",
    "print(ui1)"
   ]
  },
  {
   "attachments": {},
   "cell_type": "markdown",
   "metadata": {},
   "source": [
    "#### 3. type()\n",
    "Mengembalikan tipe dari suatu variabel/data"
   ]
  },
  {
   "cell_type": "code",
   "execution_count": 3,
   "metadata": {},
   "outputs": [
    {
     "name": "stdout",
     "output_type": "stream",
     "text": [
      "23 <class 'int'>\n",
      "2.5 <class 'float'>\n",
      "Coba lagi <class 'str'>\n",
      "False <class 'bool'>\n"
     ]
    }
   ],
   "source": [
    "int1 = 23\n",
    "float1 = 2.5\n",
    "str1 = \"Coba lagi\"\n",
    "bool1 = False\n",
    "\n",
    "print(int1, type(int1)) # Output <class 'int'>\n",
    "print(float1, type(float1))\n",
    "print(str1, type(str1))\n",
    "print(bool1, type(bool1))"
   ]
  },
  {
   "attachments": {},
   "cell_type": "markdown",
   "metadata": {},
   "source": [
    "### BI-function konversi\n",
    "#### 4. int()\n",
    "mengembalikan nilai integer\n",
    "#### 5. float()\n",
    "mengembalikan nilai float\n",
    "#### 6. str()\n",
    "mengembalikan suatu nilai menjadi bentuk string\n",
    "#### *7. bool()\n",
    "mengembalikan pernyataan True atau False\n",
    "#### 8. list()\n",
    "mengembalikan sebuah list\n",
    "#### *9. tuple()\n",
    "mengembalikan sebuah tuple\n",
    "#### *10. set()\n",
    "mengembalikan sebuah set\n",
    "#### *11. dict()\n",
    "mengembalikan sebuah dictionary berdasarkan array yg diberikan\n",
    "\n",
    "\\* jarang digunakan"
   ]
  },
  {
   "cell_type": "code",
   "execution_count": 6,
   "metadata": {},
   "outputs": [
    {
     "name": "stdout",
     "output_type": "stream",
     "text": [
      "23.0\n",
      "2\n",
      "Coba lagi2.5\n",
      "Coba lagiFalse\n",
      "====================\n",
      "(1, 2, 3)\n",
      "====================\n",
      "{'satu': 1, 'dua': 2}\n"
     ]
    }
   ],
   "source": [
    "int1 = 23\n",
    "float1 = 2.5\n",
    "str1 = \"Coba lagi\"\n",
    "bool1 = False\n",
    "\n",
    "print(float(int1))\n",
    "print(int(float1))\n",
    "print(str1 + str(float1))\n",
    "# Penambahan string dengan numerik menghasilkan error\n",
    "print(str1 + str(bool1))\n",
    "\n",
    "print(\"=\"*20) # ====================\n",
    "\n",
    "list1 = [1 ,2 ,3]\n",
    "tuple1 = tuple(list1)\n",
    "print(tuple1)\n",
    "\n",
    "print(\"=\"*20) # ====================\n",
    "\n",
    "dict1 = dict(satu = 1, dua = 2)\n",
    "print(dict1)"
   ]
  },
  {
   "attachments": {},
   "cell_type": "markdown",
   "metadata": {},
   "source": [
    "### 12. ord() dan chr()\n",
    "ord() mengembalikan kode ascii dari satu karakter, dan chr() mengembalikan kode ascii kembali ke karakternya"
   ]
  },
  {
   "cell_type": "code",
   "execution_count": 8,
   "metadata": {},
   "outputs": [
    {
     "name": "stdout",
     "output_type": "stream",
     "text": [
      "97 83 123\n",
      "a S {\n"
     ]
    }
   ],
   "source": [
    "huruf1 = \"a\"\n",
    "huruf2 = \"S\"\n",
    "huruf3 = \"{\"\n",
    "\n",
    "ordo1 = ord(huruf1) # 97\n",
    "ordo2 = ord(huruf2) # 83\n",
    "ordo3 = ord(huruf3) # 123\n",
    "\n",
    "print(ordo1, ordo2, ordo3)\n",
    "\n",
    "hurufbaru1 = chr(ordo1)\n",
    "hurufbaru2 = chr(ordo2)\n",
    "hurufbaru3 = chr(ordo3)\n",
    "\n",
    "print(hurufbaru1, hurufbaru2, hurufbaru3)\n"
   ]
  },
  {
   "attachments": {},
   "cell_type": "markdown",
   "metadata": {},
   "source": [
    "BI-function pada python selebihnya akan dijelaskan pada modul2 selanjutnya, selebihnya bisa cek di link\n",
    "\n",
    "https://www.w3schools.com/python/ref_func_dict.asp\n",
    "\n",
    "tidak untuk dipelajari semuanya, tapi setidaknya beberapa berguna saat ini"
   ]
  }
 ],
 "metadata": {
  "kernelspec": {
   "display_name": "Python 3",
   "language": "python",
   "name": "python3"
  },
  "language_info": {
   "codemirror_mode": {
    "name": "ipython",
    "version": 3
   },
   "file_extension": ".py",
   "mimetype": "text/x-python",
   "name": "python",
   "nbconvert_exporter": "python",
   "pygments_lexer": "ipython3",
   "version": "3.11.2"
  },
  "orig_nbformat": 4
 },
 "nbformat": 4,
 "nbformat_minor": 2
}
