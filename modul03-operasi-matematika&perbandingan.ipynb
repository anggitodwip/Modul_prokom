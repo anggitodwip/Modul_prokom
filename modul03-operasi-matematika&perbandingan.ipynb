{
 "cells": [
  {
   "attachments": {},
   "cell_type": "markdown",
   "metadata": {},
   "source": [
    "## Modul 03: Operasi Matematika dan Operasi Perbandingan "
   ]
  },
  {
   "attachments": {},
   "cell_type": "markdown",
   "metadata": {},
   "source": [
    "Operasi matematika terdiri atas:\n",
    "1. Penjumlahan (```+```)\n",
    "2. Pengurangan (```-```)\n",
    "3. Perkalian (```*```)\n",
    "4. Pembagian (```/```)\n",
    "5. Power(Pemangkatan) (```**```)\n",
    "6. Modulo(Sisa bagi) (```%```)\n",
    "7. Floor division(Pembagian Lantai) (```//```)"
   ]
  },
  {
   "cell_type": "code",
   "execution_count": 1,
   "metadata": {},
   "outputs": [
    {
     "name": "stdout",
     "output_type": "stream",
     "text": [
      "10 + 3 = 13\n",
      "10 - 3 = 7\n",
      "10 * 3 = 30\n",
      "10 / 3 = 3.3333333333333335\n",
      "Pembulatannya adlh 3\n"
     ]
    }
   ],
   "source": [
    "a = 10\n",
    "b = 3\n",
    "\n",
    "jum = a + b\n",
    "print(a,\"+\",b,\"=\",jum)\n",
    "\n",
    "kur = a - b\n",
    "print(a,\"-\",b,\"=\",kur)\n",
    "\n",
    "kali = a * b\n",
    "print(a,\"*\",b,\"=\",kali)\n",
    "\n",
    "bagi = a / b\n",
    "print(a,\"/\",b,\"=\",bagi)\n",
    "print(\"Pembulatannya adlh\", int(bagi))\n"
   ]
  },
  {
   "attachments": {},
   "cell_type": "markdown",
   "metadata": {},
   "source": [
    "* Operator Power (```**```) memiliki bentuk A^B sama dengan ```A**B```\n",
    "* Operator Modulo (```%```) dengan bentuk ```A%B``` mengembalikan sisa A apabila dibagi dengan B\n",
    "> Contoh: ```100 % 7 = 2```\n",
    "* Operator Floor Division (```//```) mengembalikan hasil bagi bulat tanpa sisa\n",
    "> Contoh: ```100 // 7 = 14```"
   ]
  },
  {
   "cell_type": "code",
   "execution_count": 2,
   "metadata": {},
   "outputs": [
    {
     "name": "stdout",
     "output_type": "stream",
     "text": [
      "11 ** 2 = 121\n",
      "11 mod 2 = 1\n",
      "11 // 2 = 5\n"
     ]
    }
   ],
   "source": [
    "a = 11\n",
    "b = 2\n",
    "\n",
    "power = a ** b\n",
    "print(a,\"**\",b,\"=\",power)\n",
    "\n",
    "Sisa = a % b\n",
    "print(a,\"mod\",b,\"=\",Sisa)\n",
    "\n",
    "fd = a // b\n",
    "print(a,\"//\",b,\"=\",fd)"
   ]
  },
  {
   "attachments": {},
   "cell_type": "markdown",
   "metadata": {},
   "source": [
    "Prioritas pada operasi matematika yaitu,\n",
    "1. ()\n",
    "2. Eksponen\n",
    "3. kali/bagi/mod\n",
    "4. jumlah/kurang\n",
    "Kurung OP bangsat"
   ]
  },
  {
   "attachments": {},
   "cell_type": "markdown",
   "metadata": {},
   "source": [
    "Operasi perbandingan terdiri atas, (Aplikasinya sambil jalan saja)\n",
    "1.  <\n",
    "2.  \\>\n",
    "3.  <=\n",
    "4.  \\>= \n",
    "5.  ==\n",
    "6.  !=\n",
    "\n",
    "Operasi perbandingan akan menghasilkan pernyataan Boolean, contohnya\n",
    "* ```6 >= 7``` menghasilkan ```False```\n",
    "* ```6 >= 7``` menghasilkan ```False```\n",
    "* ```\"Anggito\" == \"anggito\"``` menghasilkan ```False```. Challenge: Kenapa tidak ```True```?"
   ]
  },
  {
   "attachments": {},
   "cell_type": "markdown",
   "metadata": {},
   "source": [
    "Challenge 1: \n",
    "1. Buatlah code yang mengembalikan True apabila hasil perkalian a dan b lebih besar dari hasil pemjumlahannya!\n",
    "2. Mungkinkah code pada nomor 1 menghasilkan ```False```. Jika iya, jelaskan nilai a dan b yang sesuai! "
   ]
  },
  {
   "cell_type": "code",
   "execution_count": null,
   "metadata": {},
   "outputs": [],
   "source": [
    "a = 12\n",
    "b = 5\n",
    "\n",
    "result = a * b == a + b # Diperbaiki\n",
    "\n",
    "print(result)"
   ]
  },
  {
   "attachments": {},
   "cell_type": "markdown",
   "metadata": {},
   "source": [
    "Challenge 2:\n",
    "1. Dengan menggunakan operasi aritmatika, buat program konversi suhu Celsius ke Fahrenheit dan Kelvin (C + 273.15)!\n",
    "2. Dengan menggunakan operasi aritmatika, buat program untuk menghitung rata2 dari 2 bilangan input"
   ]
  },
  {
   "cell_type": "code",
   "execution_count": null,
   "metadata": {},
   "outputs": [],
   "source": []
  }
 ],
 "metadata": {
  "kernelspec": {
   "display_name": "Python 3",
   "language": "python",
   "name": "python3"
  },
  "language_info": {
   "codemirror_mode": {
    "name": "ipython",
    "version": 3
   },
   "file_extension": ".py",
   "mimetype": "text/x-python",
   "name": "python",
   "nbconvert_exporter": "python",
   "pygments_lexer": "ipython3",
   "version": "3.11.2"
  },
  "orig_nbformat": 4
 },
 "nbformat": 4,
 "nbformat_minor": 2
}
