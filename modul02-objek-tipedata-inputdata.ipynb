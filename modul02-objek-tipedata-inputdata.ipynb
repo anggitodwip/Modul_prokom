{
 "cells": [
  {
   "attachments": {},
   "cell_type": "markdown",
   "metadata": {},
   "source": [
    "## Modul 02: Objel, Tipe Data (Integer, Float, String, dan Boolean), dan Input Data\n",
    "Objek adalah semua nilai, tipe data, dan struktur data yang memakan memori\n"
   ]
  },
  {
   "attachments": {},
   "cell_type": "markdown",
   "metadata": {},
   "source": [
    "### Integer\n",
    "Tipe data bilangan bulat, baik positif atau negatif. Contoh:\n",
    "```python\n",
    "int1 = 12\n",
    "int2 = 3\n",
    "int3 = 0\n",
    "int4 = -12\n",
    "```"
   ]
  },
  {
   "attachments": {},
   "cell_type": "markdown",
   "metadata": {},
   "source": [
    "### Float\n",
    "Tipe data bilangan dengan desimal di belakang koma, bahkan 0 sekalipun. Contoh:\n",
    "```python\n",
    "float1 = 4.0\n",
    "float2 = 6.9\n",
    "float3 = .25\n",
    "float4 = -0.125\n",
    "```"
   ]
  },
  {
   "attachments": {},
   "cell_type": "markdown",
   "metadata": {},
   "source": [
    "### String\n",
    "Tipe data berupa serangkaian karakter yang dibatasi oleh petik tunggal ('') atau petik ganda (\"\"). Contoh:\n",
    "```python\n",
    "string1 = \"2Anggito\"\n",
    "string2 = \"       ,./;\"\n",
    "string3 = \"12345\"\n",
    "string4 = \"Bergaya\"\n",
    "```"
   ]
  },
  {
   "attachments": {},
   "cell_type": "markdown",
   "metadata": {},
   "source": [
    "### Boolean\n",
    "Tipe data yang hanya terdiri dari dua pernyataan, yaitu benar atau salah. Contoh:\n",
    "```python\n",
    "bool1 = True\n",
    "bool2 = False\n",
    "```"
   ]
  },
  {
   "attachments": {},
   "cell_type": "markdown",
   "metadata": {},
   "source": [
    "Semua tipe data memiliki identitas hanya pada tipe data itu sendiri, dan tidak mungkin untuk sebuah objek memiliki 2 tipe data.\n",
    "\n",
    "Misal:\n",
    "* ```15``` adalah integer, bukan float (```15.0```) ataupun string (```\"15\"```)\n",
    "* ```15``` adalah integer, bukan float (```15.0```) ataupun string (```\"15\"```)\n",
    "* ```False``` adalah Boolean, bukan string (```\"False\"```)"
   ]
  },
  {
   "attachments": {},
   "cell_type": "markdown",
   "metadata": {},
   "source": [
    "input data, seperti yang dijelaskan sebelumnya, memungkinkan user untuk memasukkan data ke program.\n",
    "Default tipe dari input() adalah ```string```"
   ]
  },
  {
   "cell_type": "code",
   "execution_count": 1,
   "metadata": {},
   "outputs": [
    {
     "name": "stdout",
     "output_type": "stream",
     "text": [
      "12we\n",
      "<class 'str'>\n"
     ]
    }
   ],
   "source": [
    "ui0 = input(\"Masukkan sesuatu\")\n",
    "\n",
    "print(ui0) # Hasil input\n",
    "print(type(ui0)) # string"
   ]
  },
  {
   "cell_type": "code",
   "execution_count": 2,
   "metadata": {},
   "outputs": [
    {
     "name": "stdout",
     "output_type": "stream",
     "text": [
      "12 12.0 As\n"
     ]
    }
   ],
   "source": [
    "ui1 = int(input(\"Masukkan Integer :\"))\n",
    "ui2 = float(input(\"Masukkan Float :\"))\n",
    "ui3 = str(input(\"Masukkan String :\"))\n",
    "\n",
    "print(ui1, ui2, ui3)"
   ]
  },
  {
   "attachments": {},
   "cell_type": "markdown",
   "metadata": {},
   "source": [
    "Challenge 1: Mengapa code di bawah ini hasilnya bukan 11?"
   ]
  },
  {
   "cell_type": "code",
   "execution_count": null,
   "metadata": {},
   "outputs": [],
   "source": [
    "angka1 = input(\"Masukkan angka pertama\") # Masukkan 5\n",
    "angka2 = input(\"Masukkan angka kedua\") # Masukkan 6\n",
    "\n",
    "print(angka1 + angka2)"
   ]
  },
  {
   "attachments": {},
   "cell_type": "markdown",
   "metadata": {},
   "source": [
    "Challenge 2: Mengapa kode ini error?"
   ]
  },
  {
   "cell_type": "code",
   "execution_count": 4,
   "metadata": {},
   "outputs": [
    {
     "ename": "TypeError",
     "evalue": "can only concatenate str (not \"int\") to str",
     "output_type": "error",
     "traceback": [
      "\u001b[1;31m---------------------------------------------------------------------------\u001b[0m",
      "\u001b[1;31mTypeError\u001b[0m                                 Traceback (most recent call last)",
      "Cell \u001b[1;32mIn[4], line 4\u001b[0m\n\u001b[0;32m      1\u001b[0m nama \u001b[39m=\u001b[39m \u001b[39m\"\u001b[39m\u001b[39mAnggito\u001b[39m\u001b[39m\"\u001b[39m\n\u001b[0;32m      2\u001b[0m uang \u001b[39m=\u001b[39m \u001b[39mint\u001b[39m(\u001b[39minput\u001b[39m(\u001b[39m\"\u001b[39m\u001b[39muang Anggito berapa?\u001b[39m\u001b[39m\"\u001b[39m)) \u001b[39m# Masukkan 15000\u001b[39;00m\n\u001b[1;32m----> 4\u001b[0m \u001b[39mprint\u001b[39m(\u001b[39m\"\u001b[39;49m\u001b[39mHalo, \u001b[39;49m\u001b[39m\"\u001b[39;49m \u001b[39m+\u001b[39;49m nama \u001b[39m+\u001b[39;49m \u001b[39m\"\u001b[39;49m\u001b[39m uang Kamu tinggal \u001b[39;49m\u001b[39m\"\u001b[39;49m \u001b[39m+\u001b[39;49m uang)\n",
      "\u001b[1;31mTypeError\u001b[0m: can only concatenate str (not \"int\") to str"
     ]
    }
   ],
   "source": [
    "nama = \"Anggito\"\n",
    "uang = int(input(\"uang Anggito berapa?\")) # Masukkan 15000\n",
    "\n",
    "print(\"Halo, \" + nama + \" uang Kamu tinggal \" + uang)"
   ]
  },
  {
   "attachments": {},
   "cell_type": "markdown",
   "metadata": {},
   "source": [
    "Challenge 3: kembalikan nilai result dalam bilangan bulat"
   ]
  },
  {
   "cell_type": "code",
   "execution_count": 5,
   "metadata": {},
   "outputs": [
    {
     "name": "stdout",
     "output_type": "stream",
     "text": [
      "15.270000000000001\n"
     ]
    }
   ],
   "source": [
    "a1 = 15.67\n",
    "a2 = 15.23\n",
    "a3 = 14.91\n",
    "\n",
    "result = (a1+a2+a3)/3\n",
    "print(result) # Tampilkan result dalam bilangan bulat"
   ]
  }
 ],
 "metadata": {
  "kernelspec": {
   "display_name": "Python 3",
   "language": "python",
   "name": "python3"
  },
  "language_info": {
   "codemirror_mode": {
    "name": "ipython",
    "version": 3
   },
   "file_extension": ".py",
   "mimetype": "text/x-python",
   "name": "python",
   "nbconvert_exporter": "python",
   "pygments_lexer": "ipython3",
   "version": "3.11.2"
  },
  "orig_nbformat": 4
 },
 "nbformat": 4,
 "nbformat_minor": 2
}
